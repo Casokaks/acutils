{
 "cells": [
  {
   "cell_type": "markdown",
   "id": "48511612",
   "metadata": {},
   "source": [
    "# Test notebook"
   ]
  },
  {
   "cell_type": "code",
   "execution_count": 1,
   "id": "15979941",
   "metadata": {},
   "outputs": [],
   "source": [
    "import acutils as ac"
   ]
  },
  {
   "cell_type": "code",
   "execution_count": 2,
   "id": "077228d4",
   "metadata": {},
   "outputs": [
    {
     "data": {
      "text/plain": [
       "'acutils'"
      ]
     },
     "execution_count": 2,
     "metadata": {},
     "output_type": "execute_result"
    }
   ],
   "source": [
    "ac.__name__"
   ]
  },
  {
   "cell_type": "code",
   "execution_count": 3,
   "id": "7ddaca38",
   "metadata": {},
   "outputs": [
    {
     "data": {
      "text/plain": [
       "'0.2.1'"
      ]
     },
     "execution_count": 3,
     "metadata": {},
     "output_type": "execute_result"
    }
   ],
   "source": [
    "ac.__version__"
   ]
  },
  {
   "cell_type": "code",
   "execution_count": 4,
   "id": "4974c08c",
   "metadata": {},
   "outputs": [
    {
     "data": {
      "text/plain": [
       "['/opt/conda/lib/python3.7/site-packages/acutils']"
      ]
     },
     "execution_count": 4,
     "metadata": {},
     "output_type": "execute_result"
    }
   ],
   "source": [
    "ac.__path__"
   ]
  },
  {
   "cell_type": "code",
   "execution_count": null,
   "id": "3a50f047",
   "metadata": {},
   "outputs": [],
   "source": [
    "from acutils.normalize import "
   ]
  },
  {
   "cell_type": "code",
   "execution_count": null,
   "id": "f04730e5",
   "metadata": {},
   "outputs": [],
   "source": []
  },
  {
   "cell_type": "code",
   "execution_count": null,
   "id": "4c7bd1e2",
   "metadata": {},
   "outputs": [],
   "source": []
  },
  {
   "cell_type": "code",
   "execution_count": null,
   "id": "8d194f53",
   "metadata": {},
   "outputs": [],
   "source": []
  }
 ],
 "metadata": {
  "environment": {
   "name": "common-cpu.m76",
   "type": "gcloud",
   "uri": "gcr.io/deeplearning-platform-release/base-cpu:m76"
  },
  "kernelspec": {
   "display_name": "Python 3",
   "language": "python",
   "name": "python3"
  },
  "language_info": {
   "codemirror_mode": {
    "name": "ipython",
    "version": 3
   },
   "file_extension": ".py",
   "mimetype": "text/x-python",
   "name": "python",
   "nbconvert_exporter": "python",
   "pygments_lexer": "ipython3",
   "version": "3.7.10"
  }
 },
 "nbformat": 4,
 "nbformat_minor": 5
}
