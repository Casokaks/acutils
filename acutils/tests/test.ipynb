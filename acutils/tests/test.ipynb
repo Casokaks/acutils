{
 "cells": [
  {
   "cell_type": "markdown",
   "id": "2a9abdcd",
   "metadata": {},
   "source": [
    "# Test notebook"
   ]
  },
  {
   "cell_type": "code",
   "execution_count": 1,
   "id": "2d88f68f",
   "metadata": {},
   "outputs": [],
   "source": [
    "import acutils as ac"
   ]
  },
  {
   "cell_type": "code",
   "execution_count": 2,
   "id": "22800421",
   "metadata": {},
   "outputs": [
    {
     "data": {
      "text/plain": [
       "'acutils'"
      ]
     },
     "execution_count": 2,
     "metadata": {},
     "output_type": "execute_result"
    }
   ],
   "source": [
    "ac.__name__"
   ]
  },
  {
   "cell_type": "code",
   "execution_count": 3,
   "id": "69852202",
   "metadata": {},
   "outputs": [
    {
     "data": {
      "text/plain": [
       "'0.2.1'"
      ]
     },
     "execution_count": 3,
     "metadata": {},
     "output_type": "execute_result"
    }
   ],
   "source": [
    "ac.__version__"
   ]
  },
  {
   "cell_type": "code",
   "execution_count": 4,
   "id": "8de59f28",
   "metadata": {},
   "outputs": [
    {
     "data": {
      "text/plain": [
       "['/opt/conda/lib/python3.7/site-packages/acutils']"
      ]
     },
     "execution_count": 4,
     "metadata": {},
     "output_type": "execute_result"
    }
   ],
   "source": [
    "ac.__path__"
   ]
  },
  {
   "cell_type": "code",
   "execution_count": 6,
   "id": "ee6cb787",
   "metadata": {},
   "outputs": [
    {
     "data": {
      "text/plain": [
       "(1, 3)"
      ]
     },
     "execution_count": 6,
     "metadata": {},
     "output_type": "execute_result"
    }
   ],
   "source": [
    "ac.get_shape([[1,2,3]])"
   ]
  },
  {
   "cell_type": "code",
   "execution_count": 7,
   "id": "a4d0a1f9",
   "metadata": {},
   "outputs": [
    {
     "data": {
      "text/plain": [
       "array([ 0.3,  0.4,  0.1, -1. ])"
      ]
     },
     "execution_count": 7,
     "metadata": {},
     "output_type": "execute_result"
    }
   ],
   "source": [
    "ac.normalize_zero_fixed([3,4,1,-10])"
   ]
  },
  {
   "cell_type": "code",
   "execution_count": 8,
   "id": "f16214e6",
   "metadata": {},
   "outputs": [
    {
     "data": {
      "text/plain": [
       "'Test passed.'"
      ]
     },
     "execution_count": 8,
     "metadata": {},
     "output_type": "execute_result"
    }
   ],
   "source": [
    "'Test passed.'"
   ]
  }
 ],
 "metadata": {
  "environment": {
   "name": "common-cpu.m76",
   "type": "gcloud",
   "uri": "gcr.io/deeplearning-platform-release/base-cpu:m76"
  },
  "kernelspec": {
   "display_name": "Python 3",
   "language": "python",
   "name": "python3"
  },
  "language_info": {
   "codemirror_mode": {
    "name": "ipython",
    "version": 3
   },
   "file_extension": ".py",
   "mimetype": "text/x-python",
   "name": "python",
   "nbconvert_exporter": "python",
   "pygments_lexer": "ipython3",
   "version": "3.7.10"
  }
 },
 "nbformat": 4,
 "nbformat_minor": 5
}
